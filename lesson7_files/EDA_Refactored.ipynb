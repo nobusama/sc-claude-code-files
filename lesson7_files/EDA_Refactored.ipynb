{
 "cells": [
  {
   "cell_type": "markdown",
   "metadata": {},
   "source": [
    "# E-commerce Business Analytics Dashboard\n",
    "\n",
    "A comprehensive analysis of e-commerce sales data focusing on business performance metrics, customer satisfaction, and operational efficiency.\n",
    "\n",
    "## Table of Contents\n",
    "\n",
    "1. [Introduction & Business Objectives](#introduction)\n",
    "2. [Data Loading & Configuration](#data-loading)\n",
    "3. [Data Dictionary](#data-dictionary)\n",
    "4. [Data Preparation & Transformation](#data-preparation)\n",
    "5. [Business Metrics Analysis](#business-metrics)\n",
    "   - [Revenue Performance Analysis](#revenue-analysis)\n",
    "   - [Product Category Performance](#product-analysis)\n",
    "   - [Geographic Performance Analysis](#geographic-analysis)\n",
    "   - [Customer Experience Analysis](#customer-analysis)\n",
    "6. [Summary of Key Observations](#summary)\n",
    "\n",
    "---"
   ]
  },
  {
   "cell_type": "markdown",
   "metadata": {},
   "source": [
    "## 1. Introduction & Business Objectives {#introduction}\n",
    "\n",
    "This analysis provides insights into e-commerce business performance through comprehensive examination of sales data. The primary objectives are:\n",
    "\n",
    "- **Revenue Performance**: Analyze total revenue, growth trends, and order patterns\n",
    "- **Product Strategy**: Identify top-performing categories and optimization opportunities\n",
    "- **Geographic Insights**: Understand regional performance variations\n",
    "- **Customer Satisfaction**: Evaluate delivery performance and review metrics\n",
    "- **Operational Efficiency**: Assess delivery times and fulfillment quality\n",
    "\n",
    "### Analysis Configuration\n",
    "\n",
    "The analysis can be configured for different time periods by adjusting the parameters below:"
   ]
  },
  {
   "cell_type": "code",
   "execution_count": 4,
   "metadata": {},
   "outputs": [
    {
     "name": "stdout",
     "output_type": "stream",
     "text": [
      "Analysis Period: 2023\n",
      "Comparison Period: 2022\n",
      "Month Filter: Full Year\n"
     ]
    }
   ],
   "source": [
    "# Analysis Configuration\n",
    "ANALYSIS_YEAR = 2023\n",
    "COMPARISON_YEAR = 2022\n",
    "ANALYSIS_MONTH = None  # Set to specific month (1-12) or None for full year\n",
    "DATA_PATH = 'ecommerce_data/'\n",
    "\n",
    "print(f\"Analysis Period: {ANALYSIS_YEAR}\")\n",
    "print(f\"Comparison Period: {COMPARISON_YEAR}\")\n",
    "if ANALYSIS_MONTH:\n",
    "    print(f\"Month Filter: {ANALYSIS_MONTH}\")\n",
    "else:\n",
    "    print(\"Month Filter: Full Year\")"
   ]
  },
  {
   "cell_type": "markdown",
   "metadata": {},
   "source": [
    "## 2. Data Loading & Configuration {#data-loading}\n",
    "\n",
    "Loading all required datasets and initializing the analysis framework."
   ]
  },
  {
   "cell_type": "code",
   "execution_count": 5,
   "metadata": {},
   "outputs": [
    {
     "ename": "ModuleNotFoundError",
     "evalue": "No module named 'pandas'",
     "output_type": "error",
     "traceback": [
      "\u001b[0;31m---------------------------------------------------------------------------\u001b[0m",
      "\u001b[0;31mModuleNotFoundError\u001b[0m                       Traceback (most recent call last)",
      "Cell \u001b[0;32mIn[5], line 2\u001b[0m\n\u001b[1;32m      1\u001b[0m \u001b[38;5;66;03m# Import required libraries\u001b[39;00m\n\u001b[0;32m----> 2\u001b[0m \u001b[38;5;28;01mimport\u001b[39;00m\u001b[38;5;250m \u001b[39m\u001b[38;5;21;01mpandas\u001b[39;00m\u001b[38;5;250m \u001b[39m\u001b[38;5;28;01mas\u001b[39;00m\u001b[38;5;250m \u001b[39m\u001b[38;5;21;01mpd\u001b[39;00m\n\u001b[1;32m      3\u001b[0m \u001b[38;5;28;01mimport\u001b[39;00m\u001b[38;5;250m \u001b[39m\u001b[38;5;21;01mnumpy\u001b[39;00m\u001b[38;5;250m \u001b[39m\u001b[38;5;28;01mas\u001b[39;00m\u001b[38;5;250m \u001b[39m\u001b[38;5;21;01mnp\u001b[39;00m\n\u001b[1;32m      4\u001b[0m \u001b[38;5;28;01mimport\u001b[39;00m\u001b[38;5;250m \u001b[39m\u001b[38;5;21;01mmatplotlib\u001b[39;00m\u001b[38;5;21;01m.\u001b[39;00m\u001b[38;5;21;01mpyplot\u001b[39;00m\u001b[38;5;250m \u001b[39m\u001b[38;5;28;01mas\u001b[39;00m\u001b[38;5;250m \u001b[39m\u001b[38;5;21;01mplt\u001b[39;00m\n",
      "\u001b[0;31mModuleNotFoundError\u001b[0m: No module named 'pandas'"
     ]
    }
   ],
   "source": [
    "# Import required libraries\n",
    "import pandas as pd\n",
    "import numpy as np\n",
    "import matplotlib.pyplot as plt\n",
    "import seaborn as sns\n",
    "import plotly.express as px\n",
    "import plotly.graph_objects as go\n",
    "from plotly.subplots import make_subplots\n",
    "import warnings\n",
    "\n",
    "# Import custom modules\n",
    "from data_loader import EcommerceDataLoader, load_and_process_data\n",
    "from business_metrics import BusinessMetricsCalculator, MetricsVisualizer, print_metrics_summary\n",
    "\n",
    "# Configure display options\n",
    "warnings.filterwarnings('ignore')\n",
    "plt.style.use('default')\n",
    "sns.set_palette(\"husl\")\n",
    "pd.set_option('display.max_columns', None)\n",
    "pd.set_option('display.precision', 2)\n",
    "\n",
    "print(\"Libraries imported successfully\")"
   ]
  },
  {
   "cell_type": "code",
   "execution_count": null,
   "metadata": {},
   "outputs": [
    {
     "name": "stdout",
     "output_type": "stream",
     "text": [
      "Loaded orders: 10000 records\n",
      "Loaded order_items: 16047 records\n",
      "Loaded products: 6000 records\n",
      "Loaded customers: 8000 records\n",
      "Loaded reviews: 6571 records\n",
      "Loaded payments: 14091 records\n",
      "Dataset Summary:\n",
      "==================================================\n",
      "ORDERS:\n",
      "  Rows: 10,000\n",
      "  Columns: 11\n",
      "  Memory: 2.9 MB\n",
      "  Date Range: 2021-12-31 to 2024-01-01\n",
      "\n",
      "ORDER_ITEMS:\n",
      "  Rows: 16,047\n",
      "  Columns: 8\n",
      "  Memory: 4.2 MB\n",
      "\n",
      "REVIEWS:\n",
      "  Rows: 6,571\n",
      "  Columns: 7\n",
      "  Memory: 2.3 MB\n",
      "\n"
     ]
    }
   ],
   "source": [
    "# Load and process all data\n",
    "loader, processed_data = load_and_process_data(DATA_PATH)\n",
    "\n",
    "# Display data summary\n",
    "data_summary = loader.get_data_summary()\n",
    "print(\"Dataset Summary:\")\n",
    "print(\"=\" * 50)\n",
    "for dataset, info in data_summary.items():\n",
    "    print(f\"{dataset.upper()}:\")\n",
    "    print(f\"  Rows: {info['rows']:,}\")\n",
    "    print(f\"  Columns: {info['columns']}\")\n",
    "    print(f\"  Memory: {info['memory_usage_mb']:.1f} MB\")\n",
    "    if info['date_range']:\n",
    "        print(f\"  Date Range: {info['date_range']['start'].date()} to {info['date_range']['end'].date()}\")\n",
    "    print()"
   ]
  },
  {
   "cell_type": "markdown",
   "metadata": {},
   "source": [
    "## 3. Data Dictionary {#data-dictionary}\n",
    "\n",
    "### Key Business Terms and Column Definitions\n",
    "\n",
    "| Column | Description | Business Impact |\n",
    "|--------|-------------|----------------|\n",
    "| **order_id** | Unique identifier for each customer order | Primary key for order-level analysis |\n",
    "| **price** | Item price excluding shipping | Core revenue metric |\n",
    "| **freight_value** | Shipping cost for the item | Additional revenue and cost analysis |\n",
    "| **order_status** | Current status of the order | Operational efficiency indicator |\n",
    "| **order_purchase_timestamp** | When the order was placed | Time-based analysis and trends |\n",
    "| **order_delivered_customer_date** | When order was delivered to customer | Delivery performance metric |\n",
    "| **product_category_name** | Product category classification | Product strategy and inventory planning |\n",
    "| **customer_state** | Customer's state location | Geographic market analysis |\n",
    "| **review_score** | Customer satisfaction rating (1-5) | Customer experience indicator |\n",
    "\n",
    "### Calculated Metrics\n",
    "\n",
    "- **Total Revenue**: Sum of all item prices for delivered orders\n",
    "- **Average Order Value (AOV)**: Average total value per order\n",
    "- **Delivery Days**: Time between order placement and delivery\n",
    "- **Revenue Growth**: Year-over-year percentage change in revenue\n",
    "- **Customer Satisfaction**: Distribution and average of review scores"
   ]
  },
  {
   "cell_type": "markdown",
   "metadata": {},
   "source": [
    "## 4. Data Preparation & Transformation {#data-preparation}\n",
    "\n",
    "Creating the comprehensive sales dataset for analysis with configurable time filters."
   ]
  },
  {
   "cell_type": "code",
   "execution_count": null,
   "metadata": {},
   "outputs": [
    {
     "name": "stdout",
     "output_type": "stream",
     "text": [
      "Analysis Dataset Summary:\n",
      "Total Records: 7,448\n",
      "Unique Orders: 4,635\n",
      "Date Range: 2023-01-01 to 2023-12-31\n",
      "Total Revenue: $3,360,294.74\n",
      "\n",
      "Available columns: ['order_id', 'price', 'purchase_year', 'purchase_month', 'product_category_name', 'customer_state', 'review_score', 'delivery_days']\n",
      "\n",
      "Sample Data:\n"
     ]
    },
    {
     "data": {
      "text/html": [
       "<div>\n",
       "<style scoped>\n",
       "    .dataframe tbody tr th:only-of-type {\n",
       "        vertical-align: middle;\n",
       "    }\n",
       "\n",
       "    .dataframe tbody tr th {\n",
       "        vertical-align: top;\n",
       "    }\n",
       "\n",
       "    .dataframe thead th {\n",
       "        text-align: right;\n",
       "    }\n",
       "</style>\n",
       "<table border=\"1\" class=\"dataframe\">\n",
       "  <thead>\n",
       "    <tr style=\"text-align: right;\">\n",
       "      <th></th>\n",
       "      <th>order_id</th>\n",
       "      <th>price</th>\n",
       "      <th>purchase_year</th>\n",
       "      <th>purchase_month</th>\n",
       "      <th>product_category_name</th>\n",
       "      <th>customer_state</th>\n",
       "      <th>review_score</th>\n",
       "      <th>delivery_days</th>\n",
       "    </tr>\n",
       "  </thead>\n",
       "  <tbody>\n",
       "    <tr>\n",
       "      <th>0</th>\n",
       "      <td>ord_5fa044951857e02fd1347b47</td>\n",
       "      <td>111.91</td>\n",
       "      <td>2023</td>\n",
       "      <td>4</td>\n",
       "      <td>grocery_gourmet_food</td>\n",
       "      <td>TN</td>\n",
       "      <td>5.0</td>\n",
       "      <td>6</td>\n",
       "    </tr>\n",
       "    <tr>\n",
       "      <th>1</th>\n",
       "      <td>ord_5fa044951857e02fd1347b47</td>\n",
       "      <td>878.42</td>\n",
       "      <td>2023</td>\n",
       "      <td>4</td>\n",
       "      <td>electronics</td>\n",
       "      <td>TN</td>\n",
       "      <td>5.0</td>\n",
       "      <td>6</td>\n",
       "    </tr>\n",
       "    <tr>\n",
       "      <th>2</th>\n",
       "      <td>ord_43b53981d951f855231d09ec</td>\n",
       "      <td>749.83</td>\n",
       "      <td>2023</td>\n",
       "      <td>12</td>\n",
       "      <td>sports_outdoors</td>\n",
       "      <td>FL</td>\n",
       "      <td>5.0</td>\n",
       "      <td>9</td>\n",
       "    </tr>\n",
       "    <tr>\n",
       "      <th>3</th>\n",
       "      <td>ord_e60b1e267fd32d93c4d0745b</td>\n",
       "      <td>361.54</td>\n",
       "      <td>2023</td>\n",
       "      <td>4</td>\n",
       "      <td>home_garden</td>\n",
       "      <td>PA</td>\n",
       "      <td>5.0</td>\n",
       "      <td>11</td>\n",
       "    </tr>\n",
       "    <tr>\n",
       "      <th>4</th>\n",
       "      <td>ord_e60b1e267fd32d93c4d0745b</td>\n",
       "      <td>25.59</td>\n",
       "      <td>2023</td>\n",
       "      <td>4</td>\n",
       "      <td>grocery_gourmet_food</td>\n",
       "      <td>PA</td>\n",
       "      <td>5.0</td>\n",
       "      <td>11</td>\n",
       "    </tr>\n",
       "  </tbody>\n",
       "</table>\n",
       "</div>"
      ],
      "text/plain": [
       "                       order_id   price  purchase_year  purchase_month  \\\n",
       "0  ord_5fa044951857e02fd1347b47  111.91           2023               4   \n",
       "1  ord_5fa044951857e02fd1347b47  878.42           2023               4   \n",
       "2  ord_43b53981d951f855231d09ec  749.83           2023              12   \n",
       "3  ord_e60b1e267fd32d93c4d0745b  361.54           2023               4   \n",
       "4  ord_e60b1e267fd32d93c4d0745b   25.59           2023               4   \n",
       "\n",
       "  product_category_name customer_state  review_score  delivery_days  \n",
       "0  grocery_gourmet_food             TN           5.0              6  \n",
       "1           electronics             TN           5.0              6  \n",
       "2       sports_outdoors             FL           5.0              9  \n",
       "3           home_garden             PA           5.0             11  \n",
       "4  grocery_gourmet_food             PA           5.0             11  "
      ]
     },
     "metadata": {},
     "output_type": "display_data"
    }
   ],
   "source": [
    "# Create sales dataset for analysis period\n",
    "sales_data = loader.create_sales_dataset(\n",
    "    year_filter=ANALYSIS_YEAR,\n",
    "    month_filter=ANALYSIS_MONTH,\n",
    "    status_filter='delivered'\n",
    ")\n",
    "\n",
    "print(f\"Analysis Dataset Summary:\")\n",
    "print(f\"Total Records: {len(sales_data):,}\")\n",
    "print(f\"Unique Orders: {sales_data['order_id'].nunique():,}\")\n",
    "print(f\"Date Range: {sales_data['order_purchase_timestamp'].min().date()} to {sales_data['order_purchase_timestamp'].max().date()}\")\n",
    "print(f\"Total Revenue: ${sales_data['price'].sum():,.2f}\")\n",
    "\n",
    "# Display sample of the dataset - only show available columns\n",
    "available_columns = ['order_id', 'price', 'purchase_year', 'purchase_month']\n",
    "optional_columns = ['product_category_name', 'customer_state', 'review_score', 'delivery_days']\n",
    "\n",
    "# Add optional columns if they exist\n",
    "for col in optional_columns:\n",
    "    if col in sales_data.columns:\n",
    "        available_columns.append(col)\n",
    "\n",
    "print(f\"\\nAvailable columns: {available_columns}\")\n",
    "print(\"\\nSample Data:\")\n",
    "display(sales_data[available_columns].head())"
   ]
  },
  {
   "cell_type": "code",
   "execution_count": null,
   "metadata": {},
   "outputs": [
    {
     "name": "stdout",
     "output_type": "stream",
     "text": [
      "Comparison Dataset (2022):\n",
      "Total Records: 7,641\n",
      "Unique Orders: 4,749\n",
      "Total Revenue: $3,445,076.96\n"
     ]
    }
   ],
   "source": [
    "# Create comparison dataset if comparison year is specified\n",
    "comparison_data = None\n",
    "if COMPARISON_YEAR:\n",
    "    comparison_data = loader.create_sales_dataset(\n",
    "        year_filter=COMPARISON_YEAR,\n",
    "        month_filter=ANALYSIS_MONTH,\n",
    "        status_filter='delivered'\n",
    "    )\n",
    "    \n",
    "    print(f\"Comparison Dataset ({COMPARISON_YEAR}):\")\n",
    "    print(f\"Total Records: {len(comparison_data):,}\")\n",
    "    print(f\"Unique Orders: {comparison_data['order_id'].nunique():,}\")\n",
    "    print(f\"Total Revenue: ${comparison_data['price'].sum():,.2f}\")\n",
    "\n",
    "# Create combined dataset for year-over-year analysis\n",
    "if COMPARISON_YEAR:\n",
    "    combined_data = loader.create_sales_dataset(\n",
    "        month_filter=ANALYSIS_MONTH,\n",
    "        status_filter='delivered'\n",
    "    )\n",
    "    # Filter to only include analysis and comparison years\n",
    "    combined_data = combined_data[\n",
    "        combined_data['purchase_year'].isin([ANALYSIS_YEAR, COMPARISON_YEAR])\n",
    "    ]\n",
    "else:\n",
    "    combined_data = sales_data"
   ]
  },
  {
   "cell_type": "markdown",
   "metadata": {},
   "source": [
    "## 5. Business Metrics Analysis {#business-metrics}\n",
    "\n",
    "Comprehensive analysis of key business performance indicators."
   ]
  },
  {
   "cell_type": "code",
   "execution_count": null,
   "metadata": {},
   "outputs": [
    {
     "name": "stdout",
     "output_type": "stream",
     "text": [
      "============================================================\n",
      "BUSINESS METRICS SUMMARY - 2023\n",
      "============================================================\n",
      "\n",
      "REVENUE PERFORMANCE:\n",
      "  Total Revenue: $3,360,294.74\n",
      "  Total Orders: 4,635\n",
      "  Average Order Value: $724.98\n",
      "  Revenue Growth: -2.5%\n",
      "  Order Growth: -2.4%\n",
      "\n",
      "CUSTOMER SATISFACTION:\n",
      "  Average Review Score: 4.10/5.0\n",
      "  High Satisfaction (4+): 51.6%\n",
      "\n",
      "DELIVERY PERFORMANCE:\n",
      "  Average Delivery Time: 8.0 days\n",
      "  Fast Delivery (≤3 days): 7.2%\n",
      "============================================================\n"
     ]
    }
   ],
   "source": [
    "# Initialize metrics calculator\n",
    "metrics_calc = BusinessMetricsCalculator(combined_data)\n",
    "\n",
    "# Generate comprehensive report\n",
    "business_report = metrics_calc.generate_comprehensive_report(\n",
    "    current_year=ANALYSIS_YEAR,\n",
    "    previous_year=COMPARISON_YEAR\n",
    ")\n",
    "\n",
    "# Print executive summary\n",
    "print_metrics_summary(business_report)"
   ]
  },
  {
   "cell_type": "markdown",
   "metadata": {},
   "source": [
    "### 5.1 Revenue Performance Analysis {#revenue-analysis}\n",
    "\n",
    "Analyzing overall revenue trends, growth patterns, and key performance indicators."
   ]
  },
  {
   "cell_type": "code",
   "execution_count": null,
   "metadata": {},
   "outputs": [
    {
     "name": "stdout",
     "output_type": "stream",
     "text": [
      "DETAILED REVENUE ANALYSIS - 2023\n",
      "==================================================\n",
      "Total Revenue: $3,360,294.74\n",
      "Total Orders: 4,635\n",
      "Total Items Sold: 7,448\n",
      "Average Order Value: $724.98\n",
      "\n",
      "YEAR-OVER-YEAR COMPARISON:\n",
      "Revenue Growth: -2.46%\n",
      "Order Growth: -2.40%\n",
      "AOV Growth: -0.06%\n",
      "\n",
      "⚠️ Negative revenue growth requires attention\n"
     ]
    }
   ],
   "source": [
    "# Revenue metrics deep dive\n",
    "revenue_metrics = business_report['revenue_metrics']\n",
    "\n",
    "print(f\"DETAILED REVENUE ANALYSIS - {ANALYSIS_YEAR}\")\n",
    "print(\"=\" * 50)\n",
    "print(f\"Total Revenue: ${revenue_metrics['total_revenue']:,.2f}\")\n",
    "print(f\"Total Orders: {revenue_metrics['total_orders']:,}\")\n",
    "print(f\"Total Items Sold: {revenue_metrics['total_items_sold']:,}\")\n",
    "print(f\"Average Order Value: ${revenue_metrics['average_order_value']:,.2f}\")\n",
    "\n",
    "if COMPARISON_YEAR and 'revenue_growth_rate' in revenue_metrics:\n",
    "    print(f\"\\nYEAR-OVER-YEAR COMPARISON:\")\n",
    "    print(f\"Revenue Growth: {revenue_metrics['revenue_growth_rate']:+.2f}%\")\n",
    "    print(f\"Order Growth: {revenue_metrics['order_growth_rate']:+.2f}%\")\n",
    "    print(f\"AOV Growth: {revenue_metrics['aov_growth_rate']:+.2f}%\")\n",
    "    \n",
    "    # Growth interpretation\n",
    "    if revenue_metrics['revenue_growth_rate'] > 0:\n",
    "        print(\"\\n✅ Positive revenue growth indicates business expansion\")\n",
    "    else:\n",
    "        print(\"\\n⚠️ Negative revenue growth requires attention\")"
   ]
  },
  {
   "cell_type": "code",
   "execution_count": null,
   "metadata": {},
   "outputs": [
    {
     "data": {
      "image/png": "[encoded data removed]",
      "text/plain": [
       "<Figure size 1400x800 with 1 Axes>"
      ]
     },
     "metadata": {},
     "output_type": "display_data"
    },
    {
     "name": "stdout",
     "output_type": "stream",
     "text": [
      "\n",
      "MONTHLY PERFORMANCE INSIGHTS:\n",
      "Best Revenue Month: Month 9 ($303,793)\n",
      "Lowest Revenue Month: Month 4 ($253,795)\n",
      "Average Monthly Growth: -0.39%\n",
      "Revenue Volatility (Std Dev): $17,285\n"
     ]
    }
   ],
   "source": [
    "# Monthly revenue trend visualization\n",
    "visualizer = MetricsVisualizer(business_report)\n",
    "revenue_fig = visualizer.plot_revenue_trend(figsize=(14, 8))\n",
    "plt.show()\n",
    "\n",
    "# Monthly trends analysis\n",
    "monthly_trends = business_report['monthly_trends']\n",
    "print(f\"\\nMONTHLY PERFORMANCE INSIGHTS:\")\n",
    "print(f\"Best Revenue Month: Month {monthly_trends.loc[monthly_trends['revenue'].idxmax(), 'month']} (${monthly_trends['revenue'].max():,.0f})\")\n",
    "print(f\"Lowest Revenue Month: Month {monthly_trends.loc[monthly_trends['revenue'].idxmin(), 'month']} (${monthly_trends['revenue'].min():,.0f})\")\n",
    "print(f\"Average Monthly Growth: {monthly_trends['revenue_growth'].mean():.2f}%\")\n",
    "print(f\"Revenue Volatility (Std Dev): ${monthly_trends['revenue'].std():,.0f}\")"
   ]
  },
  {
   "cell_type": "markdown",
   "metadata": {},
   "source": [
    "### 5.2 Product Category Performance {#product-analysis}\n",
    "\n",
    "Understanding which product categories drive the most revenue and identifying growth opportunities."
   ]
  },
  {
   "cell_type": "code",
   "execution_count": null,
   "metadata": {},
   "outputs": [
    {
     "name": "stdout",
     "output_type": "stream",
     "text": [
      "TOP PRODUCT CATEGORIES - 2023\n",
      "==================================================\n",
      "electronics               $ 1,401,359 ( 41.7%)\n",
      "home_garden               $   862,653 ( 25.7%)\n",
      "sports_outdoors           $   278,845 (  8.3%)\n",
      "automotive                $   247,707 (  7.4%)\n",
      "clothing_shoes_jewelry    $   232,745 (  6.9%)\n",
      "toys_games                $    70,164 (  2.1%)\n",
      "health_personal_care      $    65,370 (  1.9%)\n",
      "tools_home_improvement    $    54,280 (  1.6%)\n",
      "beauty_personal_care      $    49,213 (  1.5%)\n",
      "books_media               $    38,559 (  1.1%)\n"
     ]
    },
    {
     "data": {
      "image/png": "[encoded data removed]",
      "text/plain": [
       "<Figure size 1400x1000 with 1 Axes>"
      ]
     },
     "metadata": {},
     "output_type": "display_data"
    },
    {
     "name": "stdout",
     "output_type": "stream",
     "text": [
      "\n",
      "CATEGORY INSIGHTS:\n",
      "Total Product Categories: 13\n",
      "Top 5 Categories Revenue Share: 90.0%\n",
      "Market Concentration: High\n"
     ]
    }
   ],
   "source": [
    "# Product category analysis\n",
    "if 'error' not in business_report['product_performance']:\n",
    "    product_data = business_report['product_performance']\n",
    "    \n",
    "    print(f\"TOP PRODUCT CATEGORIES - {ANALYSIS_YEAR}\")\n",
    "    print(\"=\" * 50)\n",
    "    \n",
    "    top_categories = product_data['top_categories'].head(10)\n",
    "    for idx, row in top_categories.iterrows():\n",
    "        print(f\"{row['product_category_name']:<25} ${row['total_revenue']:>10,.0f} ({row['revenue_share']:>5.1f}%)\")\n",
    "    \n",
    "    # Category performance visualization\n",
    "    category_fig = visualizer.plot_category_performance(top_n=10, figsize=(14, 10))\n",
    "    plt.show()\n",
    "    \n",
    "    # Category insights\n",
    "    total_categories = len(product_data['all_categories'])\n",
    "    top_5_share = top_categories.head(5)['revenue_share'].sum()\n",
    "    \n",
    "    print(f\"\\nCATEGORY INSIGHTS:\")\n",
    "    print(f\"Total Product Categories: {total_categories}\")\n",
    "    print(f\"Top 5 Categories Revenue Share: {top_5_share:.1f}%\")\n",
    "    print(f\"Market Concentration: {'High' if top_5_share > 70 else 'Moderate' if top_5_share > 50 else 'Low'}\")\n",
    "else:\n",
    "    print(\"Product category data not available for analysis\")"
   ]
  },
  {
   "cell_type": "markdown",
   "metadata": {},
   "source": [
    "### 5.3 Geographic Performance Analysis {#geographic-analysis}\n",
    "\n",
    "Analyzing sales performance across different geographic regions to identify market opportunities."
   ]
  },
  {
   "cell_type": "code",
   "execution_count": null,
   "metadata": {},
   "outputs": [
    {
     "name": "stdout",
     "output_type": "stream",
     "text": [
      "GEOGRAPHIC PERFORMANCE - 2023\n",
      "==================================================\n",
      "TOP 10 STATES BY REVENUE:\n",
      "CA  $   537,881 (  769 orders, AOV: $    699)\n",
      "TX  $   403,303 (  561 orders, AOV: $    719)\n",
      "FL  $   310,196 (  431 orders, AOV: $    720)\n",
      "NY  $   253,112 (  384 orders, AOV: $    659)\n",
      "IL  $   185,931 (  260 orders, AOV: $    715)\n",
      "PA  $   173,261 (  225 orders, AOV: $    770)\n",
      "OH  $   157,620 (  200 orders, AOV: $    788)\n",
      "GA  $   146,415 (  190 orders, AOV: $    771)\n",
      "MI  $   132,326 (  210 orders, AOV: $    630)\n",
      "NC  $   128,315 (  177 orders, AOV: $    725)\n"
     ]
    },
    {
     "data": {
      "application/vnd.plotly.v1+json": {
       "config": {
        "plotlyServerURL": "https://plot.ly"
       },
       "data": [
        {
         "coloraxis": "coloraxis",
         "geo": "geo",
         "hovertemplate": "state=%{location}<br>Revenue ($)=%{z}<extra></extra>",
         "locationmode": "USA-states",
         "locations": [
          "CA",
          "TX",
          "FL",
          "NY",
          "IL",
          "PA",
          "OH",
          "GA",
          "MI",
          "NC",
          "NJ",
          "VA",
          "MA",
          "AZ",
          "WA",
          "MD",
          "IN",
          "MO",
          "WI",
          "TN"
         ],
         "name": "",
         "type": "choropleth",
         "z": {
          "bdata": "rkfhejFqIEFcj8L1nZ0YQcP1KFzP7hJBzczMzL7lDkHrUbgeV7IGQQrXo3BlJgVBKVyPwp09A0EzMzMzdd8BQc3MzMwsJwBBcT0K16tT/0Bcj8L12Bz/QHE9CtePsflASOF6FHIs+UBmZmZm0nD4QIXrUbiqOfdAFa5H4TYp9UAUrkfh2hD1QDMzMzOzr/JA9ihcjx6E8kDsUbgezXLyQA==",
          "dtype": "f8"
         }
        }
       ],
       "layout": {
        "coloraxis": {
         "colorbar": {
          "title": {
           "text": "Revenue ($)"
          }
         },
         "colorscale": [
          [
           0,
           "rgb(247,251,255)"
          ],
          [
           0.125,
           "rgb(222,235,247)"
          ],
          [
           0.25,
           "rgb(198,219,239)"
          ],
          [
           0.375,
           "rgb(158,202,225)"
          ],
          [
           0.5,
           "rgb(107,174,214)"
          ],
          [
           0.625,
           "rgb(66,146,198)"
          ],
          [
           0.75,
           "rgb(33,113,181)"
          ],
          [
           0.875,
           "rgb(8,81,156)"
          ],
          [
           1,
           "rgb(8,48,107)"
          ]
         ]
        },
        "geo": {
         "center": {},
         "domain": {
          "x": [
           0,
           1
          ],
          "y": [
           0,
           1
          ]
         },
         "scope": "usa",
         "showcoastlines": true,
         "showframe": false
        },
        "legend": {
         "tracegroupgap": 0
        },
        "template": {
         "data": {
          "bar": [
           {
            "error_x": {
             "color": "#2a3f5f"
            },
            "error_y": {
             "color": "#2a3f5f"
            },
            "marker": {
             "line": {
              "color": "#E5ECF6",
              "width": 0.5
             },
             "pattern": {
              "fillmode": "overlay",
              "size": 10,
              "solidity": 0.2
             }
            },
            "type": "bar"
           }
          ],
          "barpolar": [
           {
            "marker": {
             "line": {
              "color": "#E5ECF6",
              "width": 0.5
             },
             "pattern": {
              "fillmode": "overlay",
              "size": 10,
              "solidity": 0.2
             }
            },
            "type": "barpolar"
           }
          ],
          "carpet": [
           {
            "aaxis": {
             "endlinecolor": "#2a3f5f",
             "gridcolor": "white",
             "linecolor": "white",
             "minorgridcolor": "white",
             "startlinecolor": "#2a3f5f"
            },
            "baxis": {
             "endlinecolor": "#2a3f5f",
             "gridcolor": "white",
             "linecolor": "white",
             "minorgridcolor": "white",
             "startlinecolor": "#2a3f5f"
            },
            "type": "carpet"
           }
          ],
          "choropleth": [
           {
            "colorbar": {
             "outlinewidth": 0,
             "ticks": ""
            },
            "type": "choropleth"
           }
          ],
          "contour": [
           {
            "colorbar": {
             "outlinewidth": 0,
             "ticks": ""
            },
            "colorscale": [
             [
              0,
              "#0d0887"
             ],
             [
              0.1111111111111111,
              "#46039f"
             ],
             [
              0.2222222222222222,
              "#7201a8"
             ],
             [
              0.3333333333333333,
              "#9c179e"
             ],
             [
              0.4444444444444444,
              "#bd3786"
             ],
             [
              0.5555555555555556,
              "#d8576b"
             ],
             [
              0.6666666666666666,
              "#ed7953"
             ],
             [
              0.7777777777777778,
              "#fb9f3a"
             ],
             [
              0.8888888888888888,
              "#fdca26"
             ],
             [
              1,
              "#f0f921"
             ]
            ],
            "type": "contour"
           }
          ],
          "contourcarpet": [
           {
            "colorbar": {
             "outlinewidth": 0,
             "ticks": ""
            },
            "type": "contourcarpet"
           }
          ],
          "heatmap": [
           {
            "colorbar": {
             "outlinewidth": 0,
             "ticks": ""
            },
            "colorscale": [
             [
              0,
              "#0d0887"
             ],
             [
              0.1111111111111111,
              "#46039f"
             ],
             [
              0.2222222222222222,
              "#7201a8"
             ],
             [
              0.3333333333333333,
              "#9c179e"
             ],
             [
              0.4444444444444444,
              "#bd3786"
             ],
             [
              0.5555555555555556,
              "#d8576b"
             ],
             [
              0.6666666666666666,
              "#ed7953"
             ],
             [
              0.7777777777777778,
              "#fb9f3a"
             ],
             [
              0.8888888888888888,
              "#fdca26"
             ],
             [
              1,
              "#f0f921"
             ]
            ],
            "type": "heatmap"
           }
          ],
          "histogram": [
           {
            "marker": {
             "pattern": {
              "fillmode": "overlay",
              "size": 10,
              "solidity": 0.2
             }
            },
            "type": "histogram"
           }
          ],
          "histogram2d": [
           {
            "colorbar": {
             "outlinewidth": 0,
             "ticks": ""
            },
            "colorscale": [
             [
              0,
              "#0d0887"
             ],
             [
              0.1111111111111111,
              "#46039f"
             ],
             [
              0.2222222222222222,
              "#7201a8"
             ],
             [
              0.3333333333333333,
              "#9c179e"
             ],
             [
              0.4444444444444444,
              "#bd3786"
             ],
             [
              0.5555555555555556,
              "#d8576b"
             ],
             [
              0.6666666666666666,
              "#ed7953"
             ],
             [
              0.7777777777777778,
              "#fb9f3a"
             ],
             [
              0.8888888888888888,
              "#fdca26"
             ],
             [
              1,
              "#f0f921"
             ]
            ],
            "type": "histogram2d"
           }
          ],
          "histogram2dcontour": [
           {
            "colorbar": {
             "outlinewidth": 0,
             "ticks": ""
            },
            "colorscale": [
             [
              0,
              "#0d0887"
             ],
             [
              0.1111111111111111,
              "#46039f"
             ],
             [
              0.2222222222222222,
              "#7201a8"
             ],
             [
              0.3333333333333333,
              "#9c179e"
             ],
             [
              0.4444444444444444,
              "#bd3786"
             ],
             [
              0.5555555555555556,
              "#d8576b"
             ],
             [
              0.6666666666666666,
              "#ed7953"
             ],
             [
              0.7777777777777778,
              "#fb9f3a"
             ],
             [
              0.8888888888888888,
              "#fdca26"
             ],
             [
              1,
              "#f0f921"
             ]
            ],
            "type": "histogram2dcontour"
           }
          ],
          "mesh3d": [
           {
            "colorbar": {
             "outlinewidth": 0,
             "ticks": ""
            },
            "type": "mesh3d"
           }
          ],
          "parcoords": [
           {
            "line": {
             "colorbar": {
              "outlinewidth": 0,
              "ticks": ""
             }
            },
            "type": "parcoords"
           }
          ],
          "pie": [
           {
            "automargin": true,
            "type": "pie"
           }
          ],
          "scatter": [
           {
            "fillpattern": {
             "fillmode": "overlay",
             "size": 10,
             "solidity": 0.2
            },
            "type": "scatter"
           }
          ],
          "scatter3d": [
           {
            "line": {
             "colorbar": {
              "outlinewidth": 0,
              "ticks": ""
             }
            },
            "marker": {
             "colorbar": {
              "outlinewidth": 0,
              "ticks": ""
             }
            },
            "type": "scatter3d"
           }
          ],
          "scattercarpet": [
           {
            "marker": {
             "colorbar": {
              "outlinewidth": 0,
              "ticks": ""
             }
            },
            "type": "scattercarpet"
           }
          ],
          "scattergeo": [
           {
            "marker": {
             "colorbar": {
              "outlinewidth": 0,
              "ticks": ""
             }
            },
            "type": "scattergeo"
           }
          ],
          "scattergl": [
           {
            "marker": {
             "colorbar": {
              "outlinewidth": 0,
              "ticks": ""
             }
            },
            "type": "scattergl"
           }
          ],
          "scattermap": [
           {
            "marker": {
             "colorbar": {
              "outlinewidth": 0,
              "ticks": ""
             }
            },
            "type": "scattermap"
           }
          ],
          "scattermapbox": [
           {
            "marker": {
             "colorbar": {
              "outlinewidth": 0,
              "ticks": ""
             }
            },
            "type": "scattermapbox"
           }
          ],
          "scatterpolar": [
           {
            "marker": {
             "colorbar": {
              "outlinewidth": 0,
              "ticks": ""
             }
            },
            "type": "scatterpolar"
           }
          ],
          "scatterpolargl": [
           {
            "marker": {
             "colorbar": {
              "outlinewidth": 0,
              "ticks": ""
             }
            },
            "type": "scatterpolargl"
           }
          ],
          "scatterternary": [
           {
            "marker": {
             "colorbar": {
              "outlinewidth": 0,
              "ticks": ""
             }
            },
            "type": "scatterternary"
           }
          ],
          "surface": [
           {
            "colorbar": {
             "outlinewidth": 0,
             "ticks": ""
            },
            "colorscale": [
             [
              0,
              "#0d0887"
             ],
             [
              0.1111111111111111,
              "#46039f"
             ],
             [
              0.2222222222222222,
              "#7201a8"
             ],
             [
              0.3333333333333333,
              "#9c179e"
             ],
             [
              0.4444444444444444,
              "#bd3786"
             ],
             [
              0.5555555555555556,
              "#d8576b"
             ],
             [
              0.6666666666666666,
              "#ed7953"
             ],
             [
              0.7777777777777778,
              "#fb9f3a"
             ],
             [
              0.8888888888888888,
              "#fdca26"
             ],
             [
              1,
              "#f0f921"
             ]
            ],
            "type": "surface"
           }
          ],
          "table": [
           {
            "cells": {
             "fill": {
              "color": "#EBF0F8"
             },
             "line": {
              "color": "white"
             }
            },
            "header": {
             "fill": {
              "color": "#C8D4E3"
             },
             "line": {
              "color": "white"
             }
            },
            "type": "table"
           }
          ]
         },
         "layout": {
          "annotationdefaults": {
           "arrowcolor": "#2a3f5f",
           "arrowhead": 0,
           "arrowwidth": 1
          },
          "autotypenumbers": "strict",
          "coloraxis": {
           "colorbar": {
            "outlinewidth": 0,
            "ticks": ""
           }
          },
          "colorscale": {
           "diverging": [
            [
             0,
             "#8e0152"
            ],
            [
             0.1,
             "#c51b7d"
            ],
            [
             0.2,
             "#de77ae"
            ],
            [
             0.3,
             "#f1b6da"
            ],
            [
             0.4,
             "#fde0ef"
            ],
            [
             0.5,
             "#f7f7f7"
            ],
            [
             0.6,
             "#e6f5d0"
            ],
            [
             0.7,
             "#b8e186"
            ],
            [
             0.8,
             "#7fbc41"
            ],
            [
             0.9,
             "#4d9221"
            ],
            [
             1,
             "#276419"
            ]
           ],
           "sequential": [
            [
             0,
             "#0d0887"
            ],
            [
             0.1111111111111111,
             "#46039f"
            ],
            [
             0.2222222222222222,
             "#7201a8"
            ],
            [
             0.3333333333333333,
             "#9c179e"
            ],
            [
             0.4444444444444444,
             "#bd3786"
            ],
            [
             0.5555555555555556,
             "#d8576b"
            ],
            [
             0.6666666666666666,
             "#ed7953"
            ],
            [
             0.7777777777777778,
             "#fb9f3a"
            ],
            [
             0.8888888888888888,
             "#fdca26"
            ],
            [
             1,
             "#f0f921"
            ]
           ],
           "sequentialminus": [
            [
             0,
             "#0d0887"
            ],
            [
             0.1111111111111111,
             "#46039f"
            ],
            [
             0.2222222222222222,
             "#7201a8"
            ],
            [
             0.3333333333333333,
             "#9c179e"
            ],
            [
             0.4444444444444444,
             "#bd3786"
            ],
            [
             0.5555555555555556,
             "#d8576b"
            ],
            [
             0.6666666666666666,
             "#ed7953"
            ],
            [
             0.7777777777777778,
             "#fb9f3a"
            ],
            [
             0.8888888888888888,
             "#fdca26"
            ],
            [
             1,
             "#f0f921"
            ]
           ]
          },
          "colorway": [
           "#636efa",
           "#EF553B",
           "#00cc96",
           "#ab63fa",
           "#FFA15A",
           "#19d3f3",
           "#FF6692",
           "#B6E880",
           "#FF97FF",
           "#FECB52"
          ],
          "font": {
           "color": "#2a3f5f"
          },
          "geo": {
           "bgcolor": "white",
           "lakecolor": "white",
           "landcolor": "#E5ECF6",
           "showlakes": true,
           "showland": true,
           "subunitcolor": "white"
          },
          "hoverlabel": {
           "align": "left"
          },
          "hovermode": "closest",
          "mapbox": {
           "style": "light"
          },
          "paper_bgcolor": "white",
          "plot_bgcolor": "#E5ECF6",
          "polar": {
           "angularaxis": {
            "gridcolor": "white",
            "linecolor": "white",
            "ticks": ""
           },
           "bgcolor": "#E5ECF6",
           "radialaxis": {
            "gridcolor": "white",
            "linecolor": "white",
            "ticks": ""
           }
          },
          "scene": {
           "xaxis": {
            "backgroundcolor": "#E5ECF6",
            "gridcolor": "white",
            "gridwidth": 2,
            "linecolor": "white",
            "showbackground": true,
            "ticks": "",
            "zerolinecolor": "white"
           },
           "yaxis": {
            "backgroundcolor": "#E5ECF6",
            "gridcolor": "white",
            "gridwidth": 2,
            "linecolor": "white",
            "showbackground": true,
            "ticks": "",
            "zerolinecolor": "white"
           },
           "zaxis": {
            "backgroundcolor": "#E5ECF6",
            "gridcolor": "white",
            "gridwidth": 2,
            "linecolor": "white",
            "showbackground": true,
            "ticks": "",
            "zerolinecolor": "white"
           }
          },
          "shapedefaults": {
           "line": {
            "color": "#2a3f5f"
           }
          },
          "ternary": {
           "aaxis": {
            "gridcolor": "white",
            "linecolor": "white",
            "ticks": ""
           },
           "baxis": {
            "gridcolor": "white",
            "linecolor": "white",
            "ticks": ""
           },
           "bgcolor": "#E5ECF6",
           "caxis": {
            "gridcolor": "white",
            "linecolor": "white",
            "ticks": ""
           }
          },
          "title": {
           "x": 0.05
          },
          "xaxis": {
           "automargin": true,
           "gridcolor": "white",
           "linecolor": "white",
           "ticks": "",
           "title": {
            "standoff": 15
           },
           "zerolinecolor": "white",
           "zerolinewidth": 2
          },
          "yaxis": {
           "automargin": true,
           "gridcolor": "white",
           "linecolor": "white",
           "ticks": "",
           "title": {
            "standoff": 15
           },
           "zerolinecolor": "white",
           "zerolinewidth": 2
          }
         }
        },
        "title": {
         "font": {
          "size": 16
         },
         "text": "Revenue by State - 2023",
         "x": 0.5
        }
       }
      }
     },
     "metadata": {},
     "output_type": "display_data"
    },
    {
     "name": "stdout",
     "output_type": "stream",
     "text": [
      "\n",
      "GEOGRAPHIC INSIGHTS:\n",
      "States with Sales: 20\n",
      "Top 5 States Revenue Share: 50.3%\n",
      "Highest AOV State: IN ($814)\n",
      "Geographic Diversity: Low\n"
     ]
    }
   ],
   "source": [
    "# Geographic analysis\n",
    "geo_data = business_report['geographic_performance']\n",
    "\n",
    "if 'error' not in geo_data.columns:\n",
    "    print(f\"GEOGRAPHIC PERFORMANCE - {ANALYSIS_YEAR}\")\n",
    "    print(\"=\" * 50)\n",
    "    \n",
    "    # Top performing states\n",
    "    top_states = geo_data.head(10)\n",
    "    print(\"TOP 10 STATES BY REVENUE:\")\n",
    "    for idx, row in top_states.iterrows():\n",
    "        print(f\"{row['state']:<3} ${row['revenue']:>10,.0f} ({row['orders']:>5,} orders, AOV: ${row['avg_order_value']:>7,.0f})\")\n",
    "    \n",
    "    # Geographic heatmap\n",
    "    geo_fig = visualizer.plot_geographic_heatmap()\n",
    "    geo_fig.show()\n",
    "    \n",
    "    # Geographic insights\n",
    "    total_states = len(geo_data)\n",
    "    top_5_revenue = top_states.head(5)['revenue'].sum()\n",
    "    total_revenue = geo_data['revenue'].sum()\n",
    "    top_5_share = (top_5_revenue / total_revenue) * 100\n",
    "    \n",
    "    print(f\"\\nGEOGRAPHIC INSIGHTS:\")\n",
    "    print(f\"States with Sales: {total_states}\")\n",
    "    print(f\"Top 5 States Revenue Share: {top_5_share:.1f}%\")\n",
    "    print(f\"Highest AOV State: {geo_data.loc[geo_data['avg_order_value'].idxmax(), 'state']} (${geo_data['avg_order_value'].max():,.0f})\")\n",
    "    print(f\"Geographic Diversity: {'High' if total_states > 40 else 'Moderate' if total_states > 20 else 'Low'}\")\n",
    "else:\n",
    "    print(\"Geographic data not available for analysis\")"
   ]
  },
  {
   "cell_type": "markdown",
   "metadata": {},
   "source": [
    "### 5.4 Customer Experience Analysis {#customer-analysis}\n",
    "\n",
    "Evaluating customer satisfaction through review scores and delivery performance metrics."
   ]
  },
  {
   "cell_type": "code",
   "execution_count": null,
   "metadata": {},
   "outputs": [
    {
     "name": "stdout",
     "output_type": "stream",
     "text": [
      "CUSTOMER SATISFACTION ANALYSIS - 2023\n",
      "==================================================\n",
      "Average Review Score: 4.10/5.0\n",
      "Total Reviews: 3,225\n",
      "5-Star Reviews: 34.7%\n",
      "4+ Star Reviews: 51.6%\n",
      "Low Satisfaction (1-2 stars): 7.2%\n"
     ]
    },
    {
     "data": {
      "image/png": "[encoded data removed]",
      "text/plain": [
       "<Figure size 1200x600 with 1 Axes>"
      ]
     },
     "metadata": {},
     "output_type": "display_data"
    },
    {
     "name": "stdout",
     "output_type": "stream",
     "text": [
      "\n",
      "SATISFACTION INSIGHTS:\n",
      "Overall Satisfaction Level: Good\n"
     ]
    }
   ],
   "source": [
    "# Customer satisfaction analysis\n",
    "satisfaction_metrics = business_report['customer_satisfaction']\n",
    "\n",
    "if 'error' not in satisfaction_metrics:\n",
    "    print(f\"CUSTOMER SATISFACTION ANALYSIS - {ANALYSIS_YEAR}\")\n",
    "    print(\"=\" * 50)\n",
    "    print(f\"Average Review Score: {satisfaction_metrics['avg_review_score']:.2f}/5.0\")\n",
    "    print(f\"Total Reviews: {satisfaction_metrics['total_reviews']:,}\")\n",
    "    print(f\"5-Star Reviews: {satisfaction_metrics['score_5_percentage']:.1f}%\")\n",
    "    print(f\"4+ Star Reviews: {satisfaction_metrics['score_4_plus_percentage']:.1f}%\")\n",
    "    print(f\"Low Satisfaction (1-2 stars): {satisfaction_metrics['score_1_2_percentage']:.1f}%\")\n",
    "    \n",
    "    # Review distribution visualization\n",
    "    review_fig = visualizer.plot_review_distribution(figsize=(12, 6))\n",
    "    plt.show()\n",
    "    \n",
    "    # Satisfaction insights\n",
    "    avg_score = satisfaction_metrics['avg_review_score']\n",
    "    satisfaction_level = 'Excellent' if avg_score >= 4.5 else 'Good' if avg_score >= 4.0 else 'Fair' if avg_score >= 3.5 else 'Poor'\n",
    "    \n",
    "    print(f\"\\nSATISFACTION INSIGHTS:\")\n",
    "    print(f\"Overall Satisfaction Level: {satisfaction_level}\")\n",
    "    if satisfaction_metrics['score_4_plus_percentage'] >= 80:\n",
    "        print(\"✅ Strong customer satisfaction (80%+ give 4+ stars)\")\n",
    "    elif satisfaction_metrics['score_1_2_percentage'] > 10:\n",
    "        print(\"⚠️ Significant dissatisfaction detected (>10% give 1-2 stars)\")\n",
    "else:\n",
    "    print(\"Customer satisfaction data not available for analysis\")"
   ]
  },
  {
   "cell_type": "code",
   "execution_count": null,
   "metadata": {},
   "outputs": [
    {
     "name": "stdout",
     "output_type": "stream",
     "text": [
      "DELIVERY PERFORMANCE ANALYSIS - 2023\n",
      "==================================================\n",
      "Average Delivery Time: 8.0 days\n",
      "Median Delivery Time: 8.0 days\n",
      "Fast Delivery (≤3 days): 7.2%\n",
      "Slow Delivery (>7 days): 55.6%\n",
      "\n",
      "DELIVERY INSIGHTS:\n",
      "Delivery Performance Rating: Poor\n",
      "⚠️ High percentage of slow deliveries needs attention\n",
      "\n",
      "DELIVERY-SATISFACTION CORRELATION:\n",
      "Average satisfaction score: 4.10\n",
      "Fast delivery rate: 7.2%\n"
     ]
    }
   ],
   "source": [
    "# Delivery performance analysis\n",
    "delivery_metrics = business_report['delivery_performance']\n",
    "\n",
    "if 'error' not in delivery_metrics:\n",
    "    print(f\"DELIVERY PERFORMANCE ANALYSIS - {ANALYSIS_YEAR}\")\n",
    "    print(\"=\" * 50)\n",
    "    print(f\"Average Delivery Time: {delivery_metrics['avg_delivery_days']:.1f} days\")\n",
    "    print(f\"Median Delivery Time: {delivery_metrics['median_delivery_days']:.1f} days\")\n",
    "    print(f\"Fast Delivery (≤3 days): {delivery_metrics['fast_delivery_percentage']:.1f}%\")\n",
    "    print(f\"Slow Delivery (>7 days): {delivery_metrics['slow_delivery_percentage']:.1f}%\")\n",
    "    \n",
    "    # Delivery performance evaluation\n",
    "    avg_delivery = delivery_metrics['avg_delivery_days']\n",
    "    delivery_rating = 'Excellent' if avg_delivery <= 3 else 'Good' if avg_delivery <= 5 else 'Fair' if avg_delivery <= 7 else 'Poor'\n",
    "    \n",
    "    print(f\"\\nDELIVERY INSIGHTS:\")\n",
    "    print(f\"Delivery Performance Rating: {delivery_rating}\")\n",
    "    \n",
    "    if delivery_metrics['fast_delivery_percentage'] >= 30:\n",
    "        print(\"✅ Strong fast delivery capability\")\n",
    "    if delivery_metrics['slow_delivery_percentage'] > 20:\n",
    "        print(\"⚠️ High percentage of slow deliveries needs attention\")\n",
    "        \n",
    "    # Delivery speed impact on satisfaction\n",
    "    if 'error' not in satisfaction_metrics:\n",
    "        print(f\"\\nDELIVERY-SATISFACTION CORRELATION:\")\n",
    "        # This would require more detailed analysis of the relationship\n",
    "        print(f\"Average satisfaction score: {satisfaction_metrics['avg_review_score']:.2f}\")\n",
    "        print(f\"Fast delivery rate: {delivery_metrics['fast_delivery_percentage']:.1f}%\")\n",
    "else:\n",
    "    print(\"Delivery performance data not available for analysis\")"
   ]
  },
  {
   "cell_type": "markdown",
   "metadata": {},
   "source": [
    "## 6. Summary of Key Observations {#summary}\n",
    "\n",
    "### Executive Summary\n",
    "\n",
    "Based on the comprehensive analysis of the e-commerce data, here are the key findings and recommendations:"
   ]
  },
  {
   "cell_type": "code",
   "execution_count": null,
   "metadata": {},
   "outputs": [
    {
     "name": "stdout",
     "output_type": "stream",
     "text": [
      "EXECUTIVE SUMMARY - 2023 BUSINESS PERFORMANCE\n",
      "============================================================\n",
      "\n",
      "📊 FINANCIAL PERFORMANCE:\n",
      "   • Total Revenue: $3,360,295\n",
      "   • Total Orders: 4,635\n",
      "   • Average Order Value: $725\n",
      "   • Revenue Growth: 📉 -2.5% vs 2022\n",
      "\n",
      "🛍️ PRODUCT PERFORMANCE:\n",
      "   • Top Category: electronics ($1,401,359)\n",
      "   • Category Market Share: 41.7%\n",
      "\n",
      "🗺️ GEOGRAPHIC PERFORMANCE:\n",
      "   • Top Market: CA ($537,881)\n",
      "   • Active Markets: 20 states\n",
      "\n",
      "⭐ CUSTOMER EXPERIENCE:\n",
      "   • Average Rating: 4.1/5.0\n",
      "   • High Satisfaction: 52% (4+ stars)\n",
      "   • Average Delivery: 8.0 days\n",
      "   • Fast Delivery: 7% (≤3 days)\n",
      "\n",
      "============================================================\n"
     ]
    }
   ],
   "source": [
    "# Generate executive summary\n",
    "print(f\"EXECUTIVE SUMMARY - {ANALYSIS_YEAR} BUSINESS PERFORMANCE\")\n",
    "print(\"=\" * 60)\n",
    "\n",
    "# Key metrics summary\n",
    "revenue_metrics = business_report['revenue_metrics']\n",
    "print(f\"\\n📊 FINANCIAL PERFORMANCE:\")\n",
    "print(f\"   • Total Revenue: ${revenue_metrics['total_revenue']:,.0f}\")\n",
    "print(f\"   • Total Orders: {revenue_metrics['total_orders']:,}\")\n",
    "print(f\"   • Average Order Value: ${revenue_metrics['average_order_value']:,.0f}\")\n",
    "\n",
    "if 'revenue_growth_rate' in revenue_metrics:\n",
    "    growth_direction = \"📈\" if revenue_metrics['revenue_growth_rate'] > 0 else \"📉\"\n",
    "    print(f\"   • Revenue Growth: {growth_direction} {revenue_metrics['revenue_growth_rate']:+.1f}% vs {COMPARISON_YEAR}\")\n",
    "\n",
    "# Product insights\n",
    "if 'error' not in business_report['product_performance']:\n",
    "    top_category = business_report['product_performance']['top_categories'].iloc[0]\n",
    "    print(f\"\\n🛍️ PRODUCT PERFORMANCE:\")\n",
    "    print(f\"   • Top Category: {top_category['product_category_name']} (${top_category['total_revenue']:,.0f})\")\n",
    "    print(f\"   • Category Market Share: {top_category['revenue_share']:.1f}%\")\n",
    "\n",
    "# Geographic insights\n",
    "geo_data = business_report['geographic_performance']\n",
    "if 'error' not in geo_data.columns:\n",
    "    top_state = geo_data.iloc[0]\n",
    "    print(f\"\\n🗺️ GEOGRAPHIC PERFORMANCE:\")\n",
    "    print(f\"   • Top Market: {top_state['state']} (${top_state['revenue']:,.0f})\")\n",
    "    print(f\"   • Active Markets: {len(geo_data)} states\")\n",
    "\n",
    "# Customer experience\n",
    "if 'error' not in business_report['customer_satisfaction']:\n",
    "    satisfaction = business_report['customer_satisfaction']\n",
    "    print(f\"\\n⭐ CUSTOMER EXPERIENCE:\")\n",
    "    print(f\"   • Average Rating: {satisfaction['avg_review_score']:.1f}/5.0\")\n",
    "    print(f\"   • High Satisfaction: {satisfaction['score_4_plus_percentage']:.0f}% (4+ stars)\")\n",
    "\n",
    "if 'error' not in business_report['delivery_performance']:\n",
    "    delivery = business_report['delivery_performance']\n",
    "    print(f\"   • Average Delivery: {delivery['avg_delivery_days']:.1f} days\")\n",
    "    print(f\"   • Fast Delivery: {delivery['fast_delivery_percentage']:.0f}% (≤3 days)\")\n",
    "\n",
    "print(f\"\\n\" + \"=\" * 60)"
   ]
  },
  {
   "cell_type": "markdown",
   "metadata": {},
   "source": [
    "### Strategic Recommendations\n",
    "\n",
    "Based on the analysis results, here are the key strategic recommendations:"
   ]
  },
  {
   "cell_type": "code",
   "execution_count": null,
   "metadata": {},
   "outputs": [
    {
     "name": "stdout",
     "output_type": "stream",
     "text": [
      "STRATEGIC RECOMMENDATIONS\n",
      "========================================\n",
      "1. 🔴 PRIORITY: Address negative revenue growth through customer acquisition and retention strategies\n",
      "2. 📦 Consider diversifying product portfolio to reduce dependency on top categories\n",
      "3. 🚚 PRIORITY: Optimize logistics to reduce average delivery time\n",
      "4. ⚡ Invest in fast delivery capabilities to improve customer experience\n",
      "5. 🗺️ Explore expansion opportunities in underserved geographic markets\n",
      "\n",
      "========================================\n",
      "Analysis completed for 2023\n",
      "Comparison baseline: 2022\n",
      "Generated on: 2025-08-05 04:55:02\n"
     ]
    }
   ],
   "source": [
    "# Generate recommendations based on analysis\n",
    "print(\"STRATEGIC RECOMMENDATIONS\")\n",
    "print(\"=\" * 40)\n",
    "\n",
    "recommendations = []\n",
    "\n",
    "# Revenue-based recommendations\n",
    "if 'revenue_growth_rate' in revenue_metrics:\n",
    "    if revenue_metrics['revenue_growth_rate'] < 0:\n",
    "        recommendations.append(\"🔴 PRIORITY: Address negative revenue growth through customer acquisition and retention strategies\")\n",
    "    elif revenue_metrics['revenue_growth_rate'] < 5:\n",
    "        recommendations.append(\"🟡 Focus on accelerating growth through market expansion and product diversification\")\n",
    "    else:\n",
    "        recommendations.append(\"🟢 Maintain strong growth momentum while optimizing operational efficiency\")\n",
    "\n",
    "# Product recommendations\n",
    "if 'error' not in business_report['product_performance']:\n",
    "    top_5_share = business_report['product_performance']['top_categories'].head(5)['revenue_share'].sum()\n",
    "    if top_5_share > 70:\n",
    "        recommendations.append(\"📦 Consider diversifying product portfolio to reduce dependency on top categories\")\n",
    "    else:\n",
    "        recommendations.append(\"📦 Leverage balanced product portfolio to explore cross-selling opportunities\")\n",
    "\n",
    "# Customer experience recommendations\n",
    "if 'error' not in business_report['customer_satisfaction']:\n",
    "    satisfaction = business_report['customer_satisfaction']\n",
    "    if satisfaction['avg_review_score'] < 4.0:\n",
    "        recommendations.append(\"⭐ PRIORITY: Improve customer satisfaction through quality and service enhancements\")\n",
    "    if satisfaction['score_1_2_percentage'] > 10:\n",
    "        recommendations.append(\"⚠️ Address root causes of customer dissatisfaction to reduce negative reviews\")\n",
    "\n",
    "# Delivery recommendations\n",
    "if 'error' not in business_report['delivery_performance']:\n",
    "    delivery = business_report['delivery_performance']\n",
    "    if delivery['avg_delivery_days'] > 7:\n",
    "        recommendations.append(\"🚚 PRIORITY: Optimize logistics to reduce average delivery time\")\n",
    "    if delivery['fast_delivery_percentage'] < 20:\n",
    "        recommendations.append(\"⚡ Invest in fast delivery capabilities to improve customer experience\")\n",
    "\n",
    "# Geographic recommendations\n",
    "geo_data = business_report['geographic_performance']\n",
    "if 'error' not in geo_data.columns:\n",
    "    if len(geo_data) < 30:\n",
    "        recommendations.append(\"🗺️ Explore expansion opportunities in underserved geographic markets\")\n",
    "\n",
    "# Display recommendations\n",
    "for i, rec in enumerate(recommendations, 1):\n",
    "    print(f\"{i}. {rec}\")\n",
    "\n",
    "if not recommendations:\n",
    "    print(\"✅ Business performance appears strong across all analyzed metrics\")\n",
    "\n",
    "print(\"\\n\" + \"=\" * 40)\n",
    "print(f\"Analysis completed for {ANALYSIS_YEAR}\")\n",
    "if COMPARISON_YEAR:\n",
    "    print(f\"Comparison baseline: {COMPARISON_YEAR}\")\n",
    "print(f\"Generated on: {pd.Timestamp.now().strftime('%Y-%m-%d %H:%M:%S')}\")"
   ]
  },
  {
   "cell_type": "markdown",
   "metadata": {},
   "source": [
    "---\n",
    "\n",
    "## Analysis Configuration Summary\n",
    "\n",
    "This notebook provides a comprehensive, configurable framework for e-commerce business analysis. Key features:\n",
    "\n",
    "- **Configurable Time Periods**: Easily adjust analysis and comparison years\n",
    "- **Modular Architecture**: Reusable data loading and metrics calculation modules\n",
    "- **Comprehensive Metrics**: Revenue, product, geographic, and customer experience analysis\n",
    "- **Visual Insights**: Interactive charts and geographic visualizations\n",
    "- **Strategic Recommendations**: Data-driven business insights and action items\n",
    "\n",
    "### Next Steps\n",
    "\n",
    "1. **Regular Monitoring**: Schedule monthly/quarterly runs of this analysis\n",
    "2. **Deeper Segmentation**: Analyze specific customer segments or product lines\n",
    "3. **Predictive Analytics**: Implement forecasting models for future planning\n",
    "4. **A/B Testing**: Design experiments to test strategic recommendations\n",
    "5. **Real-time Dashboards**: Create live dashboards for ongoing monitoring\n",
    "\n",
    "---\n",
    "\n",
    "*This analysis framework is designed to be easily maintained and extended for future business intelligence needs.*"
   ]
  }
 ],
 "metadata": {
  "kernelspec": {
   "display_name": ".venv",
   "language": "python",
   "name": "python3"
  },
  "language_info": {
   "codemirror_mode": {
    "name": "ipython",
    "version": 3
   },
   "file_extension": ".py",
   "mimetype": "text/x-python",
   "name": "python",
   "nbconvert_exporter": "python",
   "pygments_lexer": "ipython3",
   "version": "3.10.8"
  }
 },
 "nbformat": 4,
 "nbformat_minor": 4
}
